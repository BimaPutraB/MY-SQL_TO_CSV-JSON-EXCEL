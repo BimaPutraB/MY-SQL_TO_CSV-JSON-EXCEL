{
 "cells": [
  {
   "cell_type": "markdown",
   "metadata": {},
   "source": [
    "\n",
    "<hr>"
   ]
  },
  {
   "cell_type": "markdown",
   "metadata": {},
   "source": [
    "## __MY SQL Database__ ==> __JSON File__\n",
    "<hr>"
   ]
  },
  {
   "cell_type": "markdown",
   "metadata": {},
   "source": [
    "### Country Language Table"
   ]
  },
  {
   "cell_type": "code",
   "execution_count": 4,
   "metadata": {},
   "outputs": [
    {
     "name": "stdout",
     "output_type": "stream",
     "text": [
      "[{'Tables_in_world': 'city'}, {'Tables_in_world': 'country'}, {'Tables_in_world': 'countrylanguage'}]\n"
     ]
    }
   ],
   "source": [
    "#Import Package\n",
    "import mysql.connector as mc\n",
    "import json\n",
    "\n",
    "#Connect to Server\n",
    "dbku= mc.connect(\n",
    "    host=\"localhost\",\n",
    "    port=3306,\n",
    "    user=\"root\",\n",
    "    password=\"password\",\n",
    "    database=\"world\"\n",
    ")\n",
    "\n",
    "\n",
    "cs = dbku.cursor(dictionary=True)\n",
    "\n",
    "cs.execute('show tables') #show tables\n",
    "print(list(cs))\n",
    "\n",
    "cs.execute(\"select * from countrylanguage\")\n",
    "lcs=list(cs)    \n",
    "\n",
    "with open (\"countryLanguage.json\",\"w\") as jsonku:\n",
    "    json.dump(lcs,jsonku)"
   ]
  },
  {
   "cell_type": "markdown",
   "metadata": {},
   "source": [
    "### Country Table"
   ]
  },
  {
   "cell_type": "code",
   "execution_count": 5,
   "metadata": {},
   "outputs": [],
   "source": [
    "import mysql.connector as mc\n",
    "import json\n",
    "\n",
    "dbku= mc.connect(\n",
    "    host=\"localhost\",\n",
    "    port=3306,\n",
    "    user=\"root\",\n",
    "    password=\"password\",\n",
    "    database=\"world\"\n",
    ")\n",
    "\n",
    "cs = dbku.cursor(dictionary=True)\n",
    "\n",
    "cs.execute('show tables') #show tables\n",
    "list(cs)\n",
    "\n",
    "cs.execute(\"select * from country\")\n",
    "lcs=list(cs)    \n",
    "\n",
    "with open (\"country.json\",\"w\") as jsonku:\n",
    "    json.dump(lcs,jsonku)"
   ]
  },
  {
   "cell_type": "markdown",
   "metadata": {},
   "source": [
    "### City Table"
   ]
  },
  {
   "cell_type": "code",
   "execution_count": 6,
   "metadata": {},
   "outputs": [],
   "source": [
    "import mysql.connector as mc\n",
    "import json\n",
    "\n",
    "dbku= mc.connect(\n",
    "    host=\"localhost\",\n",
    "    port=3306,\n",
    "    user=\"root\",\n",
    "    password=\"password\",\n",
    "    database=\"world\"\n",
    ")\n",
    "\n",
    "cs = dbku.cursor(dictionary=True)\n",
    "\n",
    "cs.execute('show tables') #show tables\n",
    "list(cs)\n",
    "\n",
    "cs.execute(\"describe city\")\n",
    "lcs=list(cs)\n",
    "\n",
    "cs.execute(\"select * from city\")\n",
    "lcs=list(cs)    \n",
    "\n",
    "with open (\"city.json\",\"w\") as jsonku:\n",
    "    json.dump(lcs,jsonku)"
   ]
  },
  {
   "cell_type": "markdown",
   "metadata": {},
   "source": [
    "<hr>"
   ]
  },
  {
   "cell_type": "markdown",
   "metadata": {},
   "source": [
    "## __MY SQL Database__ ==>  __CSV__\n",
    "<hr>"
   ]
  },
  {
   "cell_type": "markdown",
   "metadata": {},
   "source": [
    "### Country Language Table"
   ]
  },
  {
   "cell_type": "code",
   "execution_count": 16,
   "metadata": {},
   "outputs": [],
   "source": [
    "import mysql.connector\n",
    "import csv\n",
    "\n",
    "dbku = mysql.connector.connect(\n",
    "host = 'localhost',\n",
    "port = 3306,\n",
    "user ='root',\n",
    "passwd ='password',\n",
    "database='world') \n",
    "\n",
    "cs = dbku.cursor(dictionary=True)\n",
    "cs.execute('select * from countrylanguage')\n",
    "\n",
    "data = list(cs)\n",
    "key=list(data[0].keys())\n",
    "\n",
    "\n",
    "with open('countryLang.csv','w',encoding=\"utf-8\",newline=\"\") as csvku:\n",
    "    csvBhs=csv.DictWriter(csvku,delimiter=',',fieldnames =key)\n",
    "    csvBhs.writeheader()\n",
    "    csvBhs.writerows(data)"
   ]
  },
  {
   "cell_type": "markdown",
   "metadata": {},
   "source": [
    "### Country Table"
   ]
  },
  {
   "cell_type": "code",
   "execution_count": 30,
   "metadata": {},
   "outputs": [],
   "source": [
    "import mysql.connector\n",
    "import csv\n",
    "\n",
    "dbku = mysql.connector.connect(\n",
    "host = 'localhost',\n",
    "port = 3306,\n",
    "user ='root',\n",
    "passwd ='password',\n",
    "database='world') \n",
    "\n",
    "cs = dbku.cursor(dictionary=True)\n",
    "cs.execute('select * from country')\n",
    "\n",
    "data = list(cs)\n",
    "key=list(data[0].keys())\n",
    "\n",
    "\n",
    "with open('country.csv','w',encoding=\"utf-8\",newline=\"\") as csvku:\n",
    "    csvNegara=csv.DictWriter(csvku,delimiter=',',fieldnames =key)\n",
    "    csvNegara.writeheader()\n",
    "    csvNegara.writerows(data)"
   ]
  },
  {
   "cell_type": "markdown",
   "metadata": {},
   "source": [
    "### City Table"
   ]
  },
  {
   "cell_type": "code",
   "execution_count": 31,
   "metadata": {},
   "outputs": [],
   "source": [
    "import mysql.connector as mc\n",
    "import csv\n",
    "\n",
    "dbku= mc.connect(\n",
    "    host=\"localhost\",\n",
    "    port=3306,\n",
    "    user=\"root\",\n",
    "    password=\"password\",\n",
    "    database=\"world\"\n",
    ")\n",
    "\n",
    "cs = dbku.cursor(dictionary=True)\n",
    "cs.execute('select * from city')\n",
    "\n",
    "data = list(cs)\n",
    "key=list(data[0].keys())\n",
    "\n",
    "\n",
    "with open('city.csv','w',encoding=\"utf-8\",newline=\"\") as csvku:\n",
    "    csvKota=csv.DictWriter(csvku,delimiter=',',fieldnames =key)\n",
    "    csvKota.writeheader()\n",
    "    csvKota.writerows(data)"
   ]
  },
  {
   "cell_type": "markdown",
   "metadata": {},
   "source": [
    "<hr>"
   ]
  },
  {
   "cell_type": "markdown",
   "metadata": {},
   "source": [
    "## __MY SQL DATABASE ==> XLSX__\n",
    "<HR>"
   ]
  },
  {
   "cell_type": "code",
   "execution_count": 34,
   "metadata": {},
   "outputs": [],
   "source": [
    "import mysql.connector as mc\n",
    "import json\n",
    "#--------------------------------------------- Import Package\n",
    "dbku= mc.connect(\n",
    "    host=\"localhost\",\n",
    "    port=3306,\n",
    "    user=\"root\",\n",
    "    password=\"password\",\n",
    "    database=\"world\"\n",
    ")\n",
    "\n",
    "cs = dbku.cursor(dictionary=True)\n",
    "#-----------------------------------------------Connect Sql\n",
    "cs.execute('select * from city') \n",
    "dataCity=list(cs)\n",
    "headerCity=list(dataCity[0].keys())\n",
    "dataCityE=[]\n",
    "for i in dataCity:\n",
    "    dataCityE.append((list(i.values())))\n",
    "#-----------------------------------------------Get city data\n",
    "cs.execute('select * from country') \n",
    "dataCountry=list(cs)\n",
    "headerCountry=list(dataCountry[0].keys())\n",
    "dataCountryE=[]\n",
    "for j in dataCountry:\n",
    "    dataCountryE.append((list(j.values())))\n",
    "#-----------------------------------------------Get Country data\n",
    "cs.execute('select * from countrylanguage') \n",
    "dataCountryLang=list(cs)\n",
    "headerCountryLang=list(dataCountryLang[0].keys())\n",
    "dataCountryLangE=[]\n",
    "for k in dataCountryLang:\n",
    "    dataCountryLangE.append((list(k.values())))\n",
    "#-----------------------------------------------Get Country Language data\n",
    "import xlsxwriter as xl\n",
    "workbook= xl.Workbook(\"World.xlsx\")\n",
    "sheetCity= workbook.add_worksheet(\"City\")\n",
    "sheetCountry= workbook.add_worksheet(\"Country\")\n",
    "sheetCountryLang= workbook.add_worksheet(\"Country_Language\")\n",
    "#-----------------------------------------------Create XLSX File and sheets\n",
    "for j in range(len(headerCity)):\n",
    "    sheetCity.write(0,j,headerCity[j])\n",
    "for k in range(len(dataCityE)):\n",
    "    for l in range(len(dataCityE[k])):\n",
    "        sheetCity.write(k+1,l,dataCityE[k][l])\n",
    "#---------------------------------------------insert city data\n",
    "for j in range(len(headerCountry)):\n",
    "    sheetCountry.write(0,j,headerCountry[j])\n",
    "for k in range(len(dataCountryE)):\n",
    "    for l in range(len(dataCountryE[k])):\n",
    "        sheetCountry.write(k+1,l,dataCountryE[k][l])\n",
    "#---------------------------------------------insert country data\n",
    "for j in range(len(headerCountryLang)):\n",
    "    sheetCountryLang.write(0,j,headerCountryLang[j])\n",
    "for k in range(len(dataCountryLangE)):\n",
    "    for l in range(len(dataCountryLangE[k])):\n",
    "        sheetCountryLang.write(k+1,l,dataCountryLangE[k][l])\n",
    "#---------------------------------------------insert country language data\n",
    "        \n",
    "workbook.close()"
   ]
  }
 ],
 "metadata": {
  "kernelspec": {
   "display_name": "Python 3",
   "language": "python",
   "name": "python3"
  },
  "language_info": {
   "codemirror_mode": {
    "name": "ipython",
    "version": 3
   },
   "file_extension": ".py",
   "mimetype": "text/x-python",
   "name": "python",
   "nbconvert_exporter": "python",
   "pygments_lexer": "ipython3",
   "version": "3.7.4"
  }
 },
 "nbformat": 4,
 "nbformat_minor": 4
}
